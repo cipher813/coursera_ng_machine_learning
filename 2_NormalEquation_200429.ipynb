{
 "cells": [
  {
   "cell_type": "code",
   "execution_count": 1,
   "metadata": {},
   "outputs": [],
   "source": [
    "import numpy as np"
   ]
  },
  {
   "cell_type": "code",
   "execution_count": 7,
   "metadata": {},
   "outputs": [],
   "source": [
    "X = np.array([\n",
    "    [1,2104,5,1,45],\n",
    "    [1,1416,3,2,40],\n",
    "    [1,1534,3,2,30],\n",
    "    [1,852,2,1,36]\n",
    "    ])\n",
    "\n",
    "y = np.array([\n",
    "    [460],\n",
    "    [232],\n",
    "    [315],\n",
    "    [178]\n",
    "])"
   ]
  },
  {
   "cell_type": "markdown",
   "metadata": {},
   "source": [
    "Normal Equation\n",
    "\n",
    "$\\theta = (X^TX)^{-1}X^Ty$"
   ]
  },
  {
   "cell_type": "code",
   "execution_count": 3,
   "metadata": {},
   "outputs": [],
   "source": [
    "def normal_equation(X,y):\n",
    "    \"\"\"\n",
    "    Find theta which minimizes cost function J(theta)\n",
    "    \n",
    "    Complexity: O(n**3)\n",
    "    \n",
    "    Use if n samples < 10,000\n",
    "    \"\"\"\n",
    "    # X transpose * X using pseudo-inverse\n",
    "    a = np.linalg.pinv(X.T.dot(X))\n",
    "    \n",
    "    # X transpose X * X transpose\n",
    "    b = a.dot(X.T)\n",
    "    \n",
    "    # (X transpose X)X transpose * y\n",
    "    c = b.dot(y)\n",
    "    return c"
   ]
  },
  {
   "cell_type": "code",
   "execution_count": 4,
   "metadata": {},
   "outputs": [
    {
     "data": {
      "text/plain": [
       "array([[188.40031945],\n",
       "       [  0.3866255 ],\n",
       "       [-56.13824955],\n",
       "       [-92.9672536 ],\n",
       "       [ -3.73781915]])"
      ]
     },
     "execution_count": 4,
     "metadata": {},
     "output_type": "execute_result"
    }
   ],
   "source": [
    "ne = normal_equation(X,y)\n",
    "ne"
   ]
  },
  {
   "cell_type": "code",
   "execution_count": 11,
   "metadata": {},
   "outputs": [
    {
     "data": {
      "text/plain": [
       "array([[1., 0., 0., 0., 0.],\n",
       "       [0., 1., 0., 0., 0.],\n",
       "       [0., 0., 1., 0., 0.],\n",
       "       [0., 0., 0., 1., 0.],\n",
       "       [0., 0., 0., 0., 1.]])"
      ]
     },
     "execution_count": 11,
     "metadata": {},
     "output_type": "execute_result"
    }
   ],
   "source": [
    "np.eye(5)"
   ]
  },
  {
   "cell_type": "code",
   "execution_count": null,
   "metadata": {},
   "outputs": [],
   "source": []
  }
 ],
 "metadata": {
  "kernelspec": {
   "display_name": "Algorithms",
   "language": "python",
   "name": "algorithms"
  },
  "language_info": {
   "codemirror_mode": {
    "name": "ipython",
    "version": 3
   },
   "file_extension": ".py",
   "mimetype": "text/x-python",
   "name": "python",
   "nbconvert_exporter": "python",
   "pygments_lexer": "ipython3",
   "version": "3.7.4"
  }
 },
 "nbformat": 4,
 "nbformat_minor": 4
}
